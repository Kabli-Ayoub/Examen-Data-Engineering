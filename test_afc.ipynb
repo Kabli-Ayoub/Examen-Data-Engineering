{
 "cells": [
  {
   "cell_type": "code",
   "execution_count": 21,
   "outputs": [],
   "source": [
    "from sklearn.datasets import fetch_20newsgroups\n",
    "from sklearn.metrics.cluster import normalized_mutual_info_score, adjusted_rand_score\n",
    "from sentence_transformers import SentenceTransformer\n",
    "\n",
    "from sklearn.manifold import TSNE\n",
    "\n",
    "from sklearn.cluster import KMeans\n",
    "import matplotlib.pyplot as plt\n",
    "import numpy as np\n",
    "\n",
    "'''\n",
    "Variables: \n",
    "---------\n",
    "\n",
    "corpus : list of documents\n",
    "embeddings : documents embeddings of size NxM (N : number of documents, M : embedding dimension) \n",
    "red_emd : reduced embeddings matrix using dimentionality reduction\n",
    "k : number of clusters\n",
    "labels : documents labels\n",
    "pred : list of clustering predicted clusters \n",
    "\n",
    "''';"
   ],
   "metadata": {
    "collapsed": false,
    "ExecuteTime": {
     "end_time": "2023-11-30T10:23:42.466380073Z",
     "start_time": "2023-11-30T10:23:42.163953531Z"
    }
   },
   "id": "3283c1383a3faaac"
  },
  {
   "cell_type": "code",
   "execution_count": 22,
   "outputs": [],
   "source": [
    "def dim_red(mat, p, method):\n",
    "    '''\n",
    "    Perform dimensionality reduction\n",
    "\n",
    "    Input:\n",
    "    -----\n",
    "        mat : NxM list \n",
    "        p : number of dimensions to keep \n",
    "    Output:\n",
    "    ------\n",
    "        red_mat : NxP list such that p<<m\n",
    "    '''\n",
    "    if method=='ACP':\n",
    "        red_mat = mat[:,:p]\n",
    "        \n",
    "    elif method=='TSNE':\n",
    "        p = 3   # TNSE does'nt allow more than 3 component\n",
    "        r_mat = TSNE(n_components=p,\n",
    "                     learning_rate='auto',\n",
    "                     init='random', \n",
    "                     perplexity=3).fit_transform(mat)\n",
    "        red_mat = r_mat[:,:p]\n",
    "        \n",
    "    elif method=='UMAP':\n",
    "        red_mat = mat[:,:p]\n",
    "        \n",
    "    else:\n",
    "        raise Exception(\"Please select one of the three methods : APC, AFC, UMAP\")\n",
    "    \n",
    "    return red_mat"
   ],
   "metadata": {
    "collapsed": false,
    "ExecuteTime": {
     "end_time": "2023-11-30T10:23:42.473939326Z",
     "start_time": "2023-11-30T10:23:42.468247520Z"
    }
   },
   "id": "f2fef362d64810c5"
  },
  {
   "cell_type": "code",
   "execution_count": 3,
   "outputs": [],
   "source": [
    "def clust(mat, k):\n",
    "    '''\n",
    "    Perform clustering\n",
    "\n",
    "    Input:\n",
    "    -----\n",
    "        mat : input list \n",
    "        k : number of cluster\n",
    "    Output:\n",
    "    ------\n",
    "        pred : list of predicted labels\n",
    "    '''\n",
    "    \n",
    "    km = KMeans(n_clusters=k,\n",
    "    init='random',\n",
    "    n_init=10,\n",
    "    tol=1e-04,\n",
    "    max_iter=300,\n",
    "    random_state=0).fit(mat)\n",
    "    \n",
    "    return km.labels_"
   ],
   "metadata": {
    "collapsed": false
   },
   "id": "2d4d00034e618985"
  },
  {
   "cell_type": "code",
   "execution_count": 4,
   "outputs": [
    {
     "name": "stdout",
     "output_type": "stream",
     "text": [
      "NMI: 0.47 \n",
      "ARI: -0.01\n"
     ]
    }
   ],
   "source": [
    "# import data\n",
    "ng20 = fetch_20newsgroups(subset='test')\n",
    "corpus = ng20.data[:2000]\n",
    "labels = ng20.target[:2000]\n",
    "k = len(set(labels))\n",
    "\n",
    "# embedding\n",
    "model = SentenceTransformer('paraphrase-MiniLM-L6-v2')\n",
    "embeddings = model.encode(corpus)\n",
    "\n",
    "# perform dimentionality reduction\n",
    "red_emb = dim_red(embeddings, 20)\n",
    "\n",
    "# perform clustering\n",
    "pred = clust(red_emb, k)\n",
    "\n",
    "# evaluate clustering results\n",
    "nmi_score = normalized_mutual_info_score(pred,labels)\n",
    "ari_score = adjusted_rand_score(pred,labels)\n",
    "\n",
    "print(f'NMI: {nmi_score:.2f} \\nARI: {ari_score:.2f}')\n"
   ],
   "metadata": {
    "collapsed": false
   },
   "id": "67e8b81059a0cbcc"
  },
  {
   "cell_type": "code",
   "execution_count": 11,
   "outputs": [
    {
     "data": {
      "text/plain": "(2000, 384)"
     },
     "execution_count": 11,
     "metadata": {},
     "output_type": "execute_result"
    }
   ],
   "source": [
    "embeddings.shape"
   ],
   "metadata": {
    "collapsed": false,
    "ExecuteTime": {
     "end_time": "2023-11-30T09:48:27.659916874Z",
     "start_time": "2023-11-30T09:48:27.658741641Z"
    }
   },
   "id": "a5b9993576a77559"
  },
  {
   "cell_type": "code",
   "execution_count": 15,
   "outputs": [
    {
     "data": {
      "text/plain": "(2000, 2)"
     },
     "execution_count": 15,
     "metadata": {},
     "output_type": "execute_result"
    }
   ],
   "source": [
    "# apply TSNE reduction\n",
    "\n",
    "X_embedded = TSNE(n_components=2, \n",
    "                  learning_rate='auto',                  init='random', \n",
    "                  perplexity=3).fit_transform(embeddings)\n",
    "X_embedded.shape"
   ],
   "metadata": {
    "collapsed": false,
    "ExecuteTime": {
     "end_time": "2023-11-30T09:49:57.415543256Z",
     "start_time": "2023-11-30T09:49:53.390244624Z"
    }
   },
   "id": "8c70cef78eab356a"
  },
  {
   "cell_type": "code",
   "execution_count": 18,
   "outputs": [],
   "source": [
    "# test reduction\n",
    "mat_red = dim_red(mat=embeddings, p=3, method='TSNE')"
   ],
   "metadata": {
    "collapsed": false,
    "ExecuteTime": {
     "end_time": "2023-11-30T10:12:48.319075946Z",
     "start_time": "2023-11-30T10:12:43.906166203Z"
    }
   },
   "id": "ee18f00df95a59d1"
  },
  {
   "cell_type": "code",
   "execution_count": 23,
   "outputs": [],
   "source": [
    "kmeans_per_k =\\\n",
    "    [KMeans(\n",
    "    n_clusters=k,\n",
    "    init='random',\n",
    "    n_init=10,\n",
    "    tol=1e-04,\n",
    "    max_iter=300,\n",
    "    random_state=0\n",
    "    ).fit(mat_red)\n",
    "    for k in range(1, 11)]"
   ],
   "metadata": {
    "collapsed": false,
    "ExecuteTime": {
     "end_time": "2023-11-30T10:23:46.137866821Z",
     "start_time": "2023-11-30T10:23:45.967298460Z"
    }
   },
   "id": "9a16eee69f901d55"
  },
  {
   "cell_type": "code",
   "execution_count": 24,
   "outputs": [],
   "source": [
    "inertias = [model.inertia_ for model in kmeans_per_k]"
   ],
   "metadata": {
    "collapsed": false,
    "ExecuteTime": {
     "end_time": "2023-11-30T10:23:48.128613160Z",
     "start_time": "2023-11-30T10:23:48.120975950Z"
    }
   },
   "id": "1b770b2b67c8f28a"
  },
  {
   "cell_type": "code",
   "execution_count": 25,
   "outputs": [
    {
     "data": {
      "text/plain": "<Figure size 640x480 with 1 Axes>",
      "image/png": "[encoded data removed]"
     },
     "metadata": {},
     "output_type": "display_data"
    }
   ],
   "source": [
    "plt.plot(range(1,11), inertias, marker='o')\n",
    "plt.xlabel('Number of clusters')\n",
    "plt.ylabel('Distortion')\n",
    "plt.tight_layout()\n",
    "plt.grid()"
   ],
   "metadata": {
    "collapsed": false,
    "ExecuteTime": {
     "end_time": "2023-11-30T10:23:49.557730427Z",
     "start_time": "2023-11-30T10:23:49.377302546Z"
    }
   },
   "id": "68cd880231bf373b"
  },
  {
   "cell_type": "code",
   "execution_count": 26,
   "outputs": [
    {
     "data": {
      "text/plain": "array([3, 0, 0, ..., 1, 0, 1])"
     },
     "execution_count": 26,
     "metadata": {},
     "output_type": "execute_result"
    }
   ],
   "source": [
    "clust(mat=mat_red, k=4)"
   ],
   "metadata": {
    "collapsed": false,
    "ExecuteTime": {
     "end_time": "2023-11-30T10:28:34.451265765Z",
     "start_time": "2023-11-30T10:28:34.408294838Z"
    }
   },
   "id": "b807ebe8c1ce3f0e"
  },
  {
   "cell_type": "code",
   "execution_count": null,
   "outputs": [],
   "source": [],
   "metadata": {
    "collapsed": false
   },
   "id": "6937c2697e1c54f"
  }
 ],
 "metadata": {
  "kernelspec": {
   "display_name": "Python 3",
   "language": "python",
   "name": "python3"
  },
  "language_info": {
   "codemirror_mode": {
    "name": "ipython",
    "version": 2
   },
   "file_extension": ".py",
   "mimetype": "text/x-python",
   "name": "python",
   "nbconvert_exporter": "python",
   "pygments_lexer": "ipython2",
   "version": "2.7.6"
  }
 },
 "nbformat": 4,
 "nbformat_minor": 5
}
